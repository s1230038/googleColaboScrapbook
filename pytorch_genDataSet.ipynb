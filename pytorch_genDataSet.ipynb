{
  "nbformat": 4,
  "nbformat_minor": 0,
  "metadata": {
    "colab": {
      "name": "pytorch_genDataSet.ipynb",
      "version": "0.3.2",
      "provenance": [],
      "include_colab_link": true
    },
    "kernelspec": {
      "name": "python3",
      "display_name": "Python 3"
    },
    "accelerator": "GPU"
  },
  "cells": [
    {
      "cell_type": "markdown",
      "metadata": {
        "id": "view-in-github",
        "colab_type": "text"
      },
      "source": [
        "<a href=\"https://colab.research.google.com/github/s1230038/googleColaboScrapbook/blob/master/pytorch_genDataSet.ipynb\" target=\"_parent\"><img src=\"https://colab.research.google.com/assets/colab-badge.svg\" alt=\"Open In Colab\"/></a>"
      ]
    },
    {
      "cell_type": "code",
      "metadata": {
        "id": "P__8e79Ul-1d",
        "colab_type": "code",
        "colab": {}
      },
      "source": [
        "# https://sonaeru-blog.com/pytorch-dataset/#utilsdataDataLoader\n",
        "\n"
      ],
      "execution_count": 0,
      "outputs": []
    }
  ]
}