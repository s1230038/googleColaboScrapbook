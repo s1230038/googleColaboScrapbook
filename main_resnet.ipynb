{
  "nbformat": 4,
  "nbformat_minor": 0,
  "metadata": {
    "colab": {
      "name": "main_resnet.ipynb",
      "version": "0.3.2",
      "provenance": [],
      "collapsed_sections": [],
      "include_colab_link": true
    },
    "language_info": {
      "codemirror_mode": {
        "name": "ipython",
        "version": 3
      },
      "file_extension": ".py",
      "mimetype": "text/x-python",
      "name": "python",
      "nbconvert_exporter": "python",
      "pygments_lexer": "ipython3",
      "version": "3.6.6"
    },
    "kernelspec": {
      "name": "python3",
      "display_name": "Python 3"
    },
    "accelerator": "GPU"
  },
  "cells": [
    {
      "cell_type": "markdown",
      "metadata": {
        "id": "view-in-github",
        "colab_type": "text"
      },
      "source": [
        "<a href=\"https://colab.research.google.com/github/s1230038/googleColaboScrapbook/blob/master/main_resnet.ipynb\" target=\"_parent\"><img src=\"https://colab.research.google.com/assets/colab-badge.svg\" alt=\"Open In Colab\"/></a>"
      ]
    },
    {
      "cell_type": "code",
      "metadata": {
        "id": "aOrHqhXs7klL",
        "colab_type": "code",
        "colab": {
          "base_uri": "https://localhost:8080/",
          "height": 128
        },
        "outputId": "8fd4741b-99b1-422a-c870-1e1f7c256b72"
      },
      "source": [
        "# Original: https://github.com/a-martyn/resnet\n",
        "from google.colab import drive\n",
        "drive.mount('/content/drive')"
      ],
      "execution_count": 3,
      "outputs": [
        {
          "output_type": "stream",
          "text": [
            "Go to this URL in a browser: https://accounts.google.com/o/oauth2/auth?client_id=947318989803-6bn6qk8qdgf4n4g3pfee6491hc0brc4i.apps.googleusercontent.com&redirect_uri=urn%3Aietf%3Awg%3Aoauth%3A2.0%3Aoob&scope=email%20https%3A%2F%2Fwww.googleapis.com%2Fauth%2Fdocs.test%20https%3A%2F%2Fwww.googleapis.com%2Fauth%2Fdrive%20https%3A%2F%2Fwww.googleapis.com%2Fauth%2Fdrive.photos.readonly%20https%3A%2F%2Fwww.googleapis.com%2Fauth%2Fpeopleapi.readonly&response_type=code\n",
            "\n",
            "Enter your authorization code:\n",
            "··········\n",
            "Mounted at /content/drive\n"
          ],
          "name": "stdout"
        }
      ]
    },
    {
      "cell_type": "code",
      "metadata": {
        "id": "v5p-22gY8STN",
        "colab_type": "code",
        "colab": {
          "base_uri": "https://localhost:8080/",
          "height": 35
        },
        "outputId": "c2d25cdd-5bdd-4e56-ab27-eeedaf3792e0"
      },
      "source": [
        "!pwd\n",
        "!cp -r /content/drive/My\\ Drive/resnet_files/* ."
      ],
      "execution_count": 8,
      "outputs": [
        {
          "output_type": "stream",
          "text": [
            "/content\n"
          ],
          "name": "stdout"
        }
      ]
    },
    {
      "cell_type": "markdown",
      "metadata": {
        "id": "Pys6DjwK7N5p",
        "colab_type": "text"
      },
      "source": [
        "# Deep Residual Learning for Image Recognition: CIFAR-10 \n",
        "\n",
        "This notebook provides a PyTorch implementation of *Deep Residual Learning for Image Recogniton* by Kaiming He, Xiangyu Zhang, Shaoqing Ren, and Han Sun which achived state of the art in 2015 by winning the ILSVRC and COCO challenges."
      ]
    },
    {
      "cell_type": "code",
      "metadata": {
        "id": "lvSTyQhB7N5q",
        "colab_type": "code",
        "colab": {}
      },
      "source": [
        "%matplotlib inline\n",
        "%reload_ext autoreload\n",
        "%autoreload 2"
      ],
      "execution_count": 0,
      "outputs": []
    },
    {
      "cell_type": "code",
      "metadata": {
        "id": "G8VpWk1M7N5t",
        "colab_type": "code",
        "colab": {}
      },
      "source": [
        "import os\n",
        "import numpy as np\n",
        "import pandas as pd\n",
        "import matplotlib.pyplot as plt\n",
        "import seaborn as sns\n",
        "\n",
        "import torch\n",
        "from torch import nn\n",
        "import torch.nn.functional as F\n",
        "import torch.optim as optim\n",
        "\n",
        "from torchvision import transforms\n",
        "from torchvision import datasets\n",
        "from torch.utils.data.sampler import SubsetRandomSampler\n",
        "\n",
        "from resnet import ResNet\n",
        "from data_loader import get_data_loaders, plot_images\n",
        "from utils import calculate_normalisation_params\n",
        "from train import train\n",
        "\n",
        "\n",
        "import warnings\n",
        "warnings.filterwarnings('ignore')"
      ],
      "execution_count": 0,
      "outputs": []
    },
    {
      "cell_type": "code",
      "metadata": {
        "id": "7EfCUPeq7N5w",
        "colab_type": "code",
        "colab": {}
      },
      "source": [
        "# GLOBALS\n",
        "# -----------------------\n",
        "\n",
        "data_dir = 'data/cifar10'\n",
        "batch_size = 128\n"
      ],
      "execution_count": 0,
      "outputs": []
    },
    {
      "cell_type": "markdown",
      "metadata": {
        "id": "o1s62ZOn7N5y",
        "colab_type": "text"
      },
      "source": [
        "## Data augmentation: Training set"
      ]
    },
    {
      "cell_type": "code",
      "metadata": {
        "scrolled": true,
        "id": "DMEkcdXh7N5z",
        "colab_type": "code",
        "colab": {
          "base_uri": "https://localhost:8080/",
          "height": 321
        },
        "outputId": "12ce88e9-3d82-46b0-ffc5-2b80d5d072ff"
      },
      "source": [
        "# VISUALISE\n",
        "# -----------------------\n",
        "\n",
        "# Load data without normalisations\n",
        "\n",
        "train_transform = transforms.Compose([\n",
        "    # 4 pixels are padded on each side, \n",
        "    transforms.Pad(4),\n",
        "    # a 32×32 crop is randomly sampled from the \n",
        "    # padded image or its horizontal flip.\n",
        "    transforms.RandomHorizontalFlip(0.5),\n",
        "    transforms.RandomCrop(32),\n",
        "    transforms.ToTensor()\n",
        "])\n",
        "\n",
        "test_transform = transforms.Compose([\n",
        "    # For testing, we only evaluate the single \n",
        "    # view of the original 32×32 image.\n",
        "    transforms.ToTensor()\n",
        "])\n",
        "\n",
        "train_loader, test_loader = get_data_loaders(data_dir,\n",
        "                                             batch_size,\n",
        "                                             train_transform,\n",
        "                                             test_transform,\n",
        "                                             shuffle=True,\n",
        "                                             num_workers=4,\n",
        "                                             pin_memory=True)\n",
        "\n",
        "\n",
        "# Training images\n",
        "data_iter = iter(train_loader)\n",
        "images, labels = data_iter.next()\n",
        "X = images.numpy().transpose([0, 2, 3, 1])\n",
        "plot_images(X, labels)\n",
        "print(images.shape)"
      ],
      "execution_count": 12,
      "outputs": [
        {
          "output_type": "stream",
          "text": [
            "\r0it [00:00, ?it/s]"
          ],
          "name": "stderr"
        },
        {
          "output_type": "stream",
          "text": [
            "Downloading https://www.cs.toronto.edu/~kriz/cifar-10-python.tar.gz to data/cifar10/cifar-10-python.tar.gz\n"
          ],
          "name": "stdout"
        },
        {
          "output_type": "stream",
          "text": [
            "100%|█████████▉| 169869312/170498071 [00:11<00:00, 16937838.68it/s]"
          ],
          "name": "stderr"
        },
        {
          "output_type": "stream",
          "text": [
            "Files already downloaded and verified\n"
          ],
          "name": "stdout"
        },
        {
          "output_type": "display_data",
          "data": {
            "image/png": "[encoded data removed]",
            "text/plain": [
              "<Figure size 432x288 with 9 Axes>"
            ]
          },
          "metadata": {
            "tags": []
          }
        },
        {
          "output_type": "stream",
          "text": [
            "torch.Size([128, 3, 32, 32])\n"
          ],
          "name": "stdout"
        }
      ]
    },
    {
      "cell_type": "markdown",
      "metadata": {
        "id": "B1pdhvxD7N53",
        "colab_type": "text"
      },
      "source": [
        "The training set consists of 50,000 32x32 pixel images. These are padded with 4 pixels on each side, before a crop is randomly sampled from the padded image or its horziontal flip. \n",
        "\n",
        "The authors cite C.-Y. Lee, S. Xie, P. Gallagher, Z. Zhang, and Z. Tu. Deeply-supervised nets. arXiv:1409.5185, 2014. This paper suggests that 'corner cropping' should be used which could be interpretted one of two ways:\n",
        "\n",
        "1. There are five possible crops for each image, centre and then four further crops with the crop placed tightly in each corner. This equates to `torchvision.transforms.FiveCrop()` in PyTorch.\n",
        "2. The crop position is randomly selected from any possible position within the bounds of the padded image. Equivalent to `torchvision.transforms.RandomCrop()` in PyTorch.\n",
        "\n",
        "The intended implementation seem ambiguous to me, so I implemented the latter here largely for simplicity."
      ]
    },
    {
      "cell_type": "markdown",
      "metadata": {
        "id": "PaStCP1S7N54",
        "colab_type": "text"
      },
      "source": [
        "## Data augmentation: Test set"
      ]
    },
    {
      "cell_type": "code",
      "metadata": {
        "id": "ZgCat6De7N55",
        "colab_type": "code",
        "colab": {
          "base_uri": "https://localhost:8080/",
          "height": 285
        },
        "outputId": "1b1e88b8-2639-4636-e4d6-247dc4dace89"
      },
      "source": [
        "# Test images\n",
        "data_iter = iter(test_loader)\n",
        "images, labels = data_iter.next()\n",
        "X = images.numpy().transpose([0, 2, 3, 1])\n",
        "plot_images(X, labels)\n",
        "print(images.shape)"
      ],
      "execution_count": 13,
      "outputs": [
        {
          "output_type": "display_data",
          "data": {
            "image/png": "[encoded data removed]",
            "text/plain": [
              "<Figure size 432x288 with 9 Axes>"
            ]
          },
          "metadata": {
            "tags": []
          }
        },
        {
          "output_type": "stream",
          "text": [
            "torch.Size([128, 3, 32, 32])\n"
          ],
          "name": "stdout"
        }
      ]
    },
    {
      "cell_type": "markdown",
      "metadata": {
        "id": "Kn-MJ2sx7N58",
        "colab_type": "text"
      },
      "source": [
        "There are 10,000 images in the test set. These are not transformed."
      ]
    },
    {
      "cell_type": "markdown",
      "metadata": {
        "id": "q0pll1zu7N59",
        "colab_type": "text"
      },
      "source": [
        "## Calculate normalisation parameters\n",
        "\n",
        "The authors don't explicitly state if the images are normalised prior to training, however the paper referenced on preprocessing (C.-Y. Lee, S. Xie, P. Gallagher, Z. Zhang, and Z. Tu. Deeply-supervised nets. arXiv:1409.5185, 2014) notes that normalisation is used. \n",
        "\n",
        "I was unsure if the mean and standard deviation of the dataset should be calculated before or after augmentation for this purpose. It is also unclear if these calcualations should be done across the training and test set combined, or only the training set.\n",
        "\n",
        "Her I've used the pre-transform training and test set combined."
      ]
    },
    {
      "cell_type": "code",
      "metadata": {
        "id": "fQ47z8oP7N5-",
        "colab_type": "code",
        "colab": {
          "base_uri": "https://localhost:8080/",
          "height": 110
        },
        "outputId": "e216ad0d-1a8e-4871-a6c1-f2836b0ff0f2"
      },
      "source": [
        "# NORMALIZATION\n",
        "# -----------------------\n",
        "# Calculate the mean and standard deviation of each channel\n",
        "# for all observations in training and test datasets. The\n",
        "# results can then be used for normalisation\n",
        "\n",
        "# Load data without transforms\n",
        "\n",
        "train_transform = transforms.Compose([\n",
        "    # 4 pixels are padded on each side, \n",
        "    transforms.ToTensor()\n",
        "])\n",
        "\n",
        "test_transform = transforms.Compose([\n",
        "    # For testing, we only evaluate the single \n",
        "    # view of the original 32×32 image.\n",
        "    transforms.ToTensor()\n",
        "])\n",
        "\n",
        "train_loader, test_loader = get_data_loaders(data_dir,\n",
        "                                             batch_size,\n",
        "                                             train_transform,\n",
        "                                             test_transform,\n",
        "                                             shuffle=True,\n",
        "                                             num_workers=4,\n",
        "                                             pin_memory=True)\n",
        "\n",
        "\n",
        "# Takes a while to run so I've hardcoded results below\n",
        "\n",
        "means, stds = calculate_normalisation_params(train_loader, test_loader)\n",
        "print(f'means: {means}')\n",
        "print(f'stds: {stds}')"
      ],
      "execution_count": 14,
      "outputs": [
        {
          "output_type": "stream",
          "text": [
            "Files already downloaded and verified\n",
            "Files already downloaded and verified\n"
          ],
          "name": "stdout"
        },
        {
          "output_type": "stream",
          "text": [
            "\r170500096it [00:30, 16937838.68it/s]                               "
          ],
          "name": "stderr"
        },
        {
          "output_type": "stream",
          "text": [
            "means: [0.49186879012009205, 0.49188623170031276, 0.4918895808631609]\n",
            "stds: [0.2469712170273602, 0.24697059628755338, 0.2469769004716997]\n"
          ],
          "name": "stdout"
        }
      ]
    },
    {
      "cell_type": "markdown",
      "metadata": {
        "id": "rIYFlxdD7N6B",
        "colab_type": "text"
      },
      "source": [
        "## Preprocessing\n",
        "\n",
        "Here we finalise data augmentation and normalisation parameters ahead of training."
      ]
    },
    {
      "cell_type": "code",
      "metadata": {
        "id": "guLW5ts37N6C",
        "colab_type": "code",
        "colab": {}
      },
      "source": [
        "# SET FINAL TRANSFORMS WITH NORMALISATION\n",
        "\n",
        "# [x] simple data augmentation in [24]\n",
        "# [x] 4 pixels are padded on each side, \n",
        "# [x] and a 32×32 crop is randomly sampled from the padded image or its horizontal flip.\n",
        "# [x] For testing, we only evaluate the single view of the original 32×32 image.\n",
        "\n",
        "\n",
        "# Normalisation parameters fo CIFAR10\n",
        "means = [0.4918687901200927, 0.49185976472299225, 0.4918583862227116]\n",
        "stds  = [0.24697121702736, 0.24696766978537033, 0.2469719877121087]\n",
        "\n",
        "normalize = transforms.Normalize(\n",
        "    mean=means,\n",
        "    std=stds,\n",
        ")\n",
        "\n",
        "train_transform = transforms.Compose([\n",
        "    # 4 pixels are padded on each side, \n",
        "    transforms.Pad(4),\n",
        "    # a 32×32 crop is randomly sampled from the \n",
        "    # padded image or its horizontal flip.\n",
        "    transforms.RandomHorizontalFlip(0.5),\n",
        "    transforms.RandomCrop(32),\n",
        "    transforms.ToTensor(),\n",
        "    normalize\n",
        "])\n",
        "\n",
        "test_transform = transforms.Compose([\n",
        "    # For testing, we only evaluate the single \n",
        "    # view of the original 32×32 image.\n",
        "    transforms.ToTensor(),\n",
        "    normalize\n",
        "])"
      ],
      "execution_count": 0,
      "outputs": []
    },
    {
      "cell_type": "markdown",
      "metadata": {
        "id": "kTUPW6JE7N6F",
        "colab_type": "text"
      },
      "source": [
        "Notes:\n",
        "\n",
        "- Note: downsampling with stride 2 results in uneven convolution, e.g. W_out is 16.5. Why didn't the authors use Maxpooling, would have been neater."
      ]
    },
    {
      "cell_type": "markdown",
      "metadata": {
        "id": "sPOwf9W77N6G",
        "colab_type": "text"
      },
      "source": [
        "## Training"
      ]
    },
    {
      "cell_type": "markdown",
      "metadata": {
        "id": "Rn0VqoTL7N6G",
        "colab_type": "text"
      },
      "source": [
        "The authors report their results in term of training iterations. I've assumed an iteration here means a forwards and backwards pass of a batch of 128 observations through the entire network.\n",
        "\n",
        "It seems more convenient to work in epochs in PyTorch, so here I calculate the integer number of iterations per epoch for later conversions. The results is 391 iterations per epoch. An epoch is a forwards and backwards pass for all observations in the training set."
      ]
    },
    {
      "cell_type": "code",
      "metadata": {
        "id": "uSxdCLCd7N6H",
        "colab_type": "code",
        "colab": {
          "base_uri": "https://localhost:8080/",
          "height": 35
        },
        "outputId": "dad31f38-4103-4de1-c90d-07a893ee1f00"
      },
      "source": [
        "# How many iterations in an epoch?\n",
        "\n",
        "iterations = 0\n",
        "for i, data in enumerate(train_loader, 0):\n",
        "    iterations +=1\n",
        "print(iterations)"
      ],
      "execution_count": 16,
      "outputs": [
        {
          "output_type": "stream",
          "text": [
            "391\n"
          ],
          "name": "stdout"
        }
      ]
    },
    {
      "cell_type": "markdown",
      "metadata": {
        "id": "-thj1XFK7N6K",
        "colab_type": "text"
      },
      "source": [
        "### Hyperparameters\n",
        "\n",
        "Set the hyperparameters as described by the authors, with iterations converted to epochs where appropriate."
      ]
    },
    {
      "cell_type": "code",
      "metadata": {
        "id": "vEUJuptO7N6L",
        "colab_type": "code",
        "colab": {}
      },
      "source": [
        "# TRAINING PARAMETERS\n",
        "# -------------------------\n",
        "\n",
        "# Authors cite 64k iterations\n",
        "# 64000/391 = 164\n",
        "epochs = 164\n",
        "\n",
        "# OPTIMISER PARAMETERS\n",
        "lr = 0.1 # authors cite 0.1\n",
        "momentum = 0.9\n",
        "weight_decay = 0.0001 \n",
        "\n",
        "# LEARNING RATE ADJUSTMENT\n",
        "# Reduce learning rate at iterations \n",
        "# 32k and 48k. Convert to epochs:\n",
        "# e.g. iterations / (n_observations/batch_size) \n",
        "# 32000/391 = 82\n",
        "# 48000/391 = 123\n",
        "milestones = [82, 123]\n",
        "# Divide learning rate by 10 at each milestone\n",
        "gamma = 0.1"
      ],
      "execution_count": 0,
      "outputs": []
    },
    {
      "cell_type": "markdown",
      "metadata": {
        "id": "sk1NBlWo7N6P",
        "colab_type": "text"
      },
      "source": [
        "### Plain nets\n",
        "\n",
        "Run training loop for **'plain' convolutional networks** without shortcuts. Here we run for n={3, 5, 7,9} corresponding to networks of depth 20, 32, 44 and 64 layers. "
      ]
    },
    {
      "cell_type": "code",
      "metadata": {
        "id": "fRGCUYcS7N6P",
        "colab_type": "code",
        "colab": {
          "base_uri": "https://localhost:8080/",
          "height": 1000
        },
        "outputId": "28943b1c-2e56-4515-fa86-2aa3b965aa2a"
      },
      "source": [
        "# TRAIN PLAIN NETs\n",
        "\n",
        "# n determines network size as described in paper\n",
        "# where total number of layers is (6*n)+2\n",
        "ns = [3, 5, 7, 9]\n",
        "\n",
        "# Train plainnets\n",
        "for n in ns:\n",
        "    print(f'MODEL SIZE: n={n}')\n",
        "    # Reload data\n",
        "    train_loader, test_loader = get_data_loaders(data_dir,\n",
        "                                                 batch_size,\n",
        "                                                 train_transform,\n",
        "                                                 test_transform,\n",
        "                                                 shuffle=True,\n",
        "                                                 num_workers=4,\n",
        "                                                 pin_memory=True)\n",
        "    \n",
        "    model = ResNet(n, shortcuts=False)\n",
        "    criterion = torch.nn.NLLLoss()\n",
        "    optimizer = optim.SGD(model.parameters(), lr=lr, momentum=momentum, weight_decay=weight_decay)\n",
        "    scheduler = optim.lr_scheduler.MultiStepLR(optimizer, milestones=milestones, gamma=gamma)\n",
        "    results_file = f'results/plainnet{6*n+2}.csv'\n",
        "    model_file = f'pretrained/plainnet{6*n+2}.pt'\n",
        "    train(model, epochs, train_loader, test_loader, criterion, \n",
        "          optimizer, results_file, scheduler=scheduler, MODEL_PATH=model_file)"
      ],
      "execution_count": 0,
      "outputs": [
        {
          "output_type": "stream",
          "text": [
            "MODEL SIZE: n=3\n",
            "Files already downloaded and verified\n",
            "Files already downloaded and verified\n",
            "cuda:0\n",
            "Epoch \tBatch \tNLLLoss_Train\n",
            "1 \t50 \t2.132\n",
            "1 \t100 \t1.953\n",
            "1 \t150 \t1.854\n",
            "1 \t200 \t1.776\n",
            "1 \t250 \t1.709\n",
            "1 \t300 \t1.645\n",
            "1 \t350 \t1.605\n",
            "train_err: 0.71016 test_err: 0.6982\n",
            "2 \t50 \t1.497\n",
            "2 \t100 \t1.448\n",
            "2 \t150 \t1.409\n",
            "2 \t200 \t1.347\n",
            "2 \t250 \t1.293\n",
            "2 \t300 \t1.256\n",
            "2 \t350 \t1.209\n",
            "train_err: 0.47114 test_err: 0.4793\n",
            "3 \t50 \t1.160\n",
            "3 \t100 \t1.096\n",
            "3 \t150 \t1.085\n",
            "3 \t200 \t1.057\n",
            "3 \t250 \t1.025\n",
            "3 \t300 \t1.017\n",
            "3 \t350 \t0.983\n",
            "train_err: 0.4189 test_err: 0.4155\n",
            "4 \t50 \t0.952\n",
            "4 \t100 \t0.929\n",
            "4 \t150 \t0.919\n",
            "4 \t200 \t0.891\n",
            "4 \t250 \t0.873\n",
            "4 \t300 \t0.851\n",
            "4 \t350 \t0.853\n",
            "train_err: 0.3573 test_err: 0.3477\n",
            "5 \t50 \t0.823\n",
            "5 \t100 \t0.790\n",
            "5 \t150 \t0.803\n",
            "5 \t200 \t0.807\n",
            "5 \t250 \t0.769\n",
            "5 \t300 \t0.783\n",
            "5 \t350 \t0.788\n",
            "train_err: 0.31082 test_err: 0.3222\n",
            "6 \t50 \t0.737\n",
            "6 \t100 \t0.713\n",
            "6 \t150 \t0.713\n",
            "6 \t200 \t0.770\n",
            "6 \t250 \t0.716\n",
            "6 \t300 \t0.722\n",
            "6 \t350 \t0.706\n",
            "train_err: 0.27518 test_err: 0.274\n",
            "7 \t50 \t0.686\n",
            "7 \t100 \t0.671\n",
            "7 \t150 \t0.724\n",
            "7 \t200 \t0.681\n",
            "7 \t250 \t0.667\n",
            "7 \t300 \t0.655\n",
            "7 \t350 \t0.677\n",
            "train_err: 0.2698 test_err: 0.2747\n",
            "8 \t50 \t0.610\n",
            "8 \t100 \t0.630\n",
            "8 \t150 \t0.637\n",
            "8 \t200 \t0.632\n",
            "8 \t250 \t0.629\n",
            "8 \t300 \t0.621\n",
            "8 \t350 \t0.624\n",
            "train_err: 0.27312 test_err: 0.2781\n",
            "9 \t50 \t0.573\n",
            "9 \t100 \t0.622\n",
            "9 \t150 \t0.598\n",
            "9 \t200 \t0.602\n",
            "9 \t250 \t0.609\n",
            "9 \t300 \t0.587\n",
            "9 \t350 \t0.586\n",
            "train_err: 0.21804 test_err: 0.2286\n",
            "10 \t50 \t0.582\n",
            "10 \t100 \t0.582\n",
            "10 \t150 \t0.575\n",
            "10 \t200 \t0.573\n",
            "10 \t250 \t0.583\n",
            "10 \t300 \t0.592\n",
            "10 \t350 \t0.580\n",
            "train_err: 0.23324 test_err: 0.2331\n",
            "11 \t50 \t0.540\n",
            "11 \t100 \t0.570\n",
            "11 \t150 \t0.561\n",
            "11 \t200 \t0.538\n",
            "11 \t250 \t0.554\n",
            "11 \t300 \t0.545\n",
            "11 \t350 \t0.549\n",
            "train_err: 0.21876 test_err: 0.2286\n",
            "12 \t50 \t0.543\n",
            "12 \t100 \t0.552\n",
            "12 \t150 \t0.534\n",
            "12 \t200 \t0.528\n",
            "12 \t250 \t0.514\n",
            "12 \t300 \t0.532\n",
            "12 \t350 \t0.555\n",
            "train_err: 0.1999 test_err: 0.2105\n",
            "13 \t50 \t0.491\n",
            "13 \t100 \t0.519\n",
            "13 \t150 \t0.511\n",
            "13 \t200 \t0.514\n",
            "13 \t250 \t0.523\n",
            "13 \t300 \t0.530\n",
            "13 \t350 \t0.516\n",
            "train_err: 0.23064 test_err: 0.2462\n",
            "14 \t50 \t0.487\n",
            "14 \t100 \t0.477\n",
            "14 \t150 \t0.500\n",
            "14 \t200 \t0.499\n",
            "14 \t250 \t0.492\n",
            "14 \t300 \t0.510\n",
            "14 \t350 \t0.521\n",
            "train_err: 0.20118 test_err: 0.2146\n",
            "15 \t50 \t0.470\n",
            "15 \t100 \t0.488\n",
            "15 \t150 \t0.481\n",
            "15 \t200 \t0.502\n",
            "15 \t250 \t0.488\n",
            "15 \t300 \t0.479\n",
            "15 \t350 \t0.484\n",
            "train_err: 0.22212 test_err: 0.2348\n",
            "16 \t50 \t0.485\n",
            "16 \t100 \t0.456\n",
            "16 \t150 \t0.484\n",
            "16 \t200 \t0.478\n",
            "16 \t250 \t0.487\n",
            "16 \t300 \t0.491\n",
            "16 \t350 \t0.481\n",
            "train_err: 0.24022 test_err: 0.2514\n",
            "17 \t50 \t0.465\n",
            "17 \t100 \t0.465\n",
            "17 \t150 \t0.452\n",
            "17 \t200 \t0.483\n",
            "17 \t250 \t0.469\n",
            "17 \t300 \t0.456\n",
            "17 \t350 \t0.453\n",
            "train_err: 0.1655 test_err: 0.1797\n",
            "18 \t50 \t0.432\n",
            "18 \t100 \t0.468\n",
            "18 \t150 \t0.461\n",
            "18 \t200 \t0.442\n",
            "18 \t250 \t0.453\n",
            "18 \t300 \t0.469\n",
            "18 \t350 \t0.450\n",
            "train_err: 0.17348 test_err: 0.1905\n",
            "19 \t50 \t0.437\n",
            "19 \t100 \t0.445\n",
            "19 \t150 \t0.442\n",
            "19 \t200 \t0.437\n",
            "19 \t250 \t0.461\n",
            "19 \t300 \t0.466\n",
            "19 \t350 \t0.451\n",
            "train_err: 0.17204 test_err: 0.194\n",
            "20 \t50 \t0.412\n",
            "20 \t100 \t0.428\n",
            "20 \t150 \t0.435\n",
            "20 \t200 \t0.464\n",
            "20 \t250 \t0.456\n",
            "20 \t300 \t0.441\n",
            "20 \t350 \t0.449\n",
            "train_err: 0.15006 test_err: 0.1711\n",
            "21 \t50 \t0.434\n",
            "21 \t100 \t0.430\n",
            "21 \t150 \t0.413\n",
            "21 \t200 \t0.431\n",
            "21 \t250 \t0.434\n",
            "21 \t300 \t0.409\n",
            "21 \t350 \t0.441\n",
            "train_err: 0.1722 test_err: 0.1962\n",
            "22 \t50 \t0.428\n",
            "22 \t100 \t0.412\n",
            "22 \t150 \t0.441\n",
            "22 \t200 \t0.413\n",
            "22 \t250 \t0.444\n",
            "22 \t300 \t0.417\n",
            "22 \t350 \t0.405\n",
            "train_err: 0.1946 test_err: 0.2203\n",
            "23 \t50 \t0.406\n",
            "23 \t100 \t0.387\n",
            "23 \t150 \t0.432\n",
            "23 \t200 \t0.424\n",
            "23 \t250 \t0.421\n",
            "23 \t300 \t0.432\n",
            "23 \t350 \t0.433\n",
            "train_err: 0.1773 test_err: 0.1972\n"
          ],
          "name": "stdout"
        }
      ]
    },
    {
      "cell_type": "markdown",
      "metadata": {
        "id": "ZA7p4vyJ7N6T",
        "colab_type": "text"
      },
      "source": [
        "### Residual nets\n",
        "\n",
        "Run training loop for residual networks with shortcuts. Here we run for n={3, 5, 7,9} corresponding to networks of depth 20, 32, 44 and 64 layers.\n"
      ]
    },
    {
      "cell_type": "code",
      "metadata": {
        "id": "DOSyNoLU7N6T",
        "colab_type": "code",
        "colab": {}
      },
      "source": [
        "# TRAIN RESNETs\n",
        "\n",
        "# n determines network size as described in paper\n",
        "ns = [3, 5, 7, 9]\n",
        "\n",
        "# Train resnets\n",
        "for n in ns:\n",
        "    print(f'MODEL SIZE: n={n}')\n",
        "    # Reload data\n",
        "    train_loader, test_loader = get_data_loaders(data_dir,\n",
        "                                                 batch_size,\n",
        "                                                 train_transform,\n",
        "                                                 test_transform,\n",
        "                                                 shuffle=True,\n",
        "                                                 num_workers=4,\n",
        "                                                 pin_memory=True)\n",
        "    \n",
        "    model = ResNet(n, shortcuts=True)\n",
        "    criterion = torch.nn.NLLLoss()\n",
        "    optimizer = optim.SGD(model.parameters(), lr=lr, momentum=momentum, weight_decay=weight_decay)\n",
        "    scheduler = optim.lr_scheduler.MultiStepLR(optimizer, milestones=milestones, gamma=gamma)\n",
        "    results_file = f'results/resnet{6*n+2}.csv'\n",
        "    model_file = f'pretrained/resnet{6*n+2}.pt'\n",
        "    train(model, epochs, train_loader, test_loader, criterion, \n",
        "          optimizer, results_file, scheduler=scheduler, MODEL_PATH=model_file)"
      ],
      "execution_count": 0,
      "outputs": []
    },
    {
      "cell_type": "markdown",
      "metadata": {
        "id": "MDzGxp2a7N6W",
        "colab_type": "text"
      },
      "source": [
        "### Check model\n",
        "\n",
        "Table 6. in the paper reports that the ResNet model with 20 layers should have 0.27 million trainable parameters. We reproduce that here.\n",
        "\n",
        "It is noted elsewhere that the plain net should have the same number of parameters for the CIFAR10 experiment. This is because an identity mapping is used for the residual shortcuts, as opposed to a convolutional layer, an so there are no additional trainable parameters."
      ]
    },
    {
      "cell_type": "code",
      "metadata": {
        "scrolled": true,
        "id": "LxfW1zP77N6X",
        "colab_type": "code",
        "colab": {}
      },
      "source": [
        "print(f'Parameter count: {sum([p.numel() for p in model.parameters()])}')"
      ],
      "execution_count": 0,
      "outputs": []
    },
    {
      "cell_type": "markdown",
      "metadata": {
        "id": "5HJ372Z47N6a",
        "colab_type": "text"
      },
      "source": [
        "The PyTorch model architecture for a 20 layer model."
      ]
    },
    {
      "cell_type": "code",
      "metadata": {
        "scrolled": true,
        "id": "Rwg3zpYX7N6b",
        "colab_type": "code",
        "colab": {}
      },
      "source": [
        "print(model)"
      ],
      "execution_count": 0,
      "outputs": []
    },
    {
      "cell_type": "markdown",
      "metadata": {
        "id": "rugs4Nun7N6g",
        "colab_type": "text"
      },
      "source": [
        "## Analysis\n",
        "\n",
        "### Plain net\n",
        "\n",
        "First we compare the performance of 'plain' convolutional networks of various depths. This corresponds to the left-hand axis of Figure. 6 in the paper. "
      ]
    },
    {
      "cell_type": "code",
      "metadata": {
        "scrolled": false,
        "id": "JEVMNgb27N6h",
        "colab_type": "code",
        "colab": {}
      },
      "source": [
        "ns  = [3, 5, 7, 9]\n",
        "clr = ['y', 'c', 'g', 'r']\n",
        "\n",
        "\n",
        "plainnet_dfs = [pd.read_csv(f'results/plainnet{6*n+2}.csv') for n in ns]\n",
        "fig = plt.figure(figsize=(20, 10))\n",
        "plt.axis([0, 164, 0, 20])\n",
        "\n",
        "\n",
        "for i in range(len(ns)):\n",
        "    plt.plot(plainnet_dfs[i]['epoch'], plainnet_dfs[i]['train_err']*100, f'{clr[i]}--',\n",
        "             label=f'plain-{6*ns[i]+2} train')\n",
        "    plt.plot(plainnet_dfs[i]['epoch'], plainnet_dfs[i]['test_err']*100, f'{clr[i]}',\n",
        "             label=f'plain-{6*ns[i]+2} test')\n",
        "\n",
        "plt.title('Comparison of four plain convolutional networks with 20, 32, 44 and 56 layers.')\n",
        "plt.legend(loc='upper right')\n",
        "plt.xlabel('epochs')\n",
        "plt.ylabel('error (%)')\n",
        "plt.axhline(10, color='black', alpha=0.5, dashes=(10., 10.))\n",
        "plt.axhline(5, color='black', alpha=0.5, dashes=(10., 10.));"
      ],
      "execution_count": 0,
      "outputs": []
    },
    {
      "cell_type": "code",
      "metadata": {
        "id": "avfoDfOR7N6l",
        "colab_type": "code",
        "colab": {}
      },
      "source": [
        "bests = [df[df['test_err'] == df['test_err'].min()].iloc[0] for df in plainnet_dfs]\n",
        "bests_df= pd.concat(bests, axis=1).T\n",
        "bests_df['model'] = ['PlainNet20', 'PlainNet32', 'PlainNet44', 'PlainNet56']\n",
        "display(bests_df[['model', 'test_err']])"
      ],
      "execution_count": 0,
      "outputs": []
    },
    {
      "cell_type": "markdown",
      "metadata": {
        "id": "I-sXcI8F7N6q",
        "colab_type": "text"
      },
      "source": [
        "### Resnet"
      ]
    },
    {
      "cell_type": "code",
      "metadata": {
        "id": "3MflgjT87N6q",
        "colab_type": "code",
        "colab": {}
      },
      "source": [
        "ns  = [3, 5, 7, 9]\n",
        "clr = ['y', 'c', 'g', 'r']\n",
        "\n",
        "resnet_dfs = [pd.read_csv(f'results/resnet{6*n+2}.csv') for n in ns]\n",
        "fig = plt.figure(figsize=(20, 10))\n",
        "plt.axis([0, 164, 0, 20])\n",
        "\n",
        "\n",
        "for i in range(len(ns)):\n",
        "    plt.plot(resnet_dfs[i]['epoch'], resnet_dfs[i]['train_err']*100, f'{clr[i]}--',\n",
        "             label=f'ResNet-{6*ns[i]+2} train')\n",
        "    plt.plot(resnet_dfs[i]['epoch'], resnet_dfs[i]['test_err']*100, f'{clr[i]}',\n",
        "             label=f'ResNet-{6*ns[i]+2} test')\n",
        "\n",
        "plt.title('Comparison of four residual networks with 20, 32, 44 and 56 layers.')\n",
        "plt.legend(loc='upper right')\n",
        "plt.xlabel('epochs')\n",
        "plt.ylabel('error (%)')\n",
        "plt.axhline(10, color='black', alpha=0.5, dashes=(10., 10.))\n",
        "plt.axhline(5, color='black', alpha=0.5, dashes=(10., 10.));"
      ],
      "execution_count": 0,
      "outputs": []
    },
    {
      "cell_type": "code",
      "metadata": {
        "id": "DO-3OP3T7N6t",
        "colab_type": "code",
        "colab": {}
      },
      "source": [
        "bests = [df[df['test_err'] == df['test_err'].min()].iloc[0] for df in resnet_dfs]\n",
        "bests_df= pd.concat(bests, axis=1).T\n",
        "bests_df['model'] = ['ResNet20', 'ResNet32', 'ResNet44', 'ResNet56']\n",
        "display(bests_df[['model', 'test_err']])\n"
      ],
      "execution_count": 0,
      "outputs": []
    },
    {
      "cell_type": "markdown",
      "metadata": {
        "id": "14nENvId7N6x",
        "colab_type": "text"
      },
      "source": [
        "## Side-by-side plot"
      ]
    },
    {
      "cell_type": "code",
      "metadata": {
        "id": "nJ2T9VVv7N6x",
        "colab_type": "code",
        "colab": {}
      },
      "source": [
        "ns  = [3, 5, 7, 9]\n",
        "clr = ['y', 'c', 'g', 'r']\n",
        "\n",
        "\n",
        "f, (ax1, ax2) = plt.subplots(1, 2, sharey=True, figsize=(25, 7))\n",
        "\n",
        "plainnet_dfs = [pd.read_csv(f'results/plainnet{6*n+2}.csv') for n in ns]\n",
        "resnet_dfs = [pd.read_csv(f'results/resnet{6*n+2}.csv') for n in ns]\n",
        "\n",
        "def plot_results(dfs, ax, title):\n",
        "    ax.axis([0, 164, 0, 20])\n",
        "    \n",
        "    for i in range(len(ns)):\n",
        "        ax.plot(dfs[i]['epoch'], dfs[i]['train_err']*100, f'{clr[i]}--',\n",
        "                 label=f'plain-{6*ns[i]+2} train')\n",
        "        ax.plot(dfs[i]['epoch'], dfs[i]['test_err']*100, f'{clr[i]}',\n",
        "                 label=f'plain-{6*ns[i]+2} test')\n",
        "    \n",
        "    ax.set_title(title)\n",
        "    ax.legend(loc='bottom left')\n",
        "    ax.set_xlabel('epochs')\n",
        "    ax.set_ylabel('error (%)')\n",
        "    ax.axhline(10, color='black', alpha=0.5, dashes=(10., 10.))\n",
        "    ax.axhline(5, color='black', alpha=0.5, dashes=(10., 10.));\n",
        "    \n",
        "plot_results(plainnet_dfs, ax1, 'Plain Networks')\n",
        "plot_results(resnet_dfs, ax2, 'Residual Networks')"
      ],
      "execution_count": 0,
      "outputs": []
    },
    {
      "cell_type": "code",
      "metadata": {
        "id": "tvLONo5-7N60",
        "colab_type": "code",
        "colab": {}
      },
      "source": [
        ""
      ],
      "execution_count": 0,
      "outputs": []
    }
  ]
}