{
  "nbformat": 4,
  "nbformat_minor": 0,
  "metadata": {
    "colab": {
      "name": "numpy_axis.ipynb",
      "version": "0.3.2",
      "provenance": [],
      "collapsed_sections": [],
      "include_colab_link": true
    },
    "kernelspec": {
      "name": "python3",
      "display_name": "Python 3"
    },
    "accelerator": "GPU"
  },
  "cells": [
    {
      "cell_type": "markdown",
      "metadata": {
        "id": "view-in-github",
        "colab_type": "text"
      },
      "source": [
        "<a href=\"https://colab.research.google.com/github/s1230038/googleColaboScrapbook/blob/master/numpy_axis.ipynb\" target=\"_parent\"><img src=\"https://colab.research.google.com/assets/colab-badge.svg\" alt=\"Open In Colab\"/></a>"
      ]
    },
    {
      "cell_type": "code",
      "metadata": {
        "id": "OEOvX9yJwL7A",
        "colab_type": "code",
        "colab": {}
      },
      "source": [
        ""
      ],
      "execution_count": 0,
      "outputs": []
    },
    {
      "cell_type": "code",
      "metadata": {
        "id": "Pln2uHIJhNb-",
        "colab_type": "code",
        "colab": {
          "base_uri": "https://localhost:8080/",
          "height": 561
        },
        "outputId": "894a1598-f4eb-4c6d-a53a-eb781b255aa5"
      },
      "source": [
        "import numpy as np\n",
        "import itertools\n",
        "\n",
        "a = np.array([\n",
        "            [[0, 1, 2, 3], [4, 5, 6, 7], [8, 9, 10, 11]],\n",
        "            [[12, 13, 14, 15], [16, 17, 18, 19], [20, 21, 22, 23]]\n",
        "            ])\n",
        "print(a)\n",
        "print('shape = {0}'.format(a.shape) )\n",
        "for ax0, ax1, ax2 in itertools.product(range(2), range(3), range(4)):\n",
        "  print(\"a[%d][%d][%d] = %d\" %(ax0 ,ax1 ,ax2 ,a[ax0][ax1][ax2]) )"
      ],
      "execution_count": 34,
      "outputs": [
        {
          "output_type": "stream",
          "text": [
            "[[[ 0  1  2  3]\n",
            "  [ 4  5  6  7]\n",
            "  [ 8  9 10 11]]\n",
            "\n",
            " [[12 13 14 15]\n",
            "  [16 17 18 19]\n",
            "  [20 21 22 23]]]\n",
            "shape = (2, 3, 4)\n",
            "a[0][0][0] = 0\n",
            "a[0][0][1] = 1\n",
            "a[0][0][2] = 2\n",
            "a[0][0][3] = 3\n",
            "a[0][1][0] = 4\n",
            "a[0][1][1] = 5\n",
            "a[0][1][2] = 6\n",
            "a[0][1][3] = 7\n",
            "a[0][2][0] = 8\n",
            "a[0][2][1] = 9\n",
            "a[0][2][2] = 10\n",
            "a[0][2][3] = 11\n",
            "a[1][0][0] = 12\n",
            "a[1][0][1] = 13\n",
            "a[1][0][2] = 14\n",
            "a[1][0][3] = 15\n",
            "a[1][1][0] = 16\n",
            "a[1][1][1] = 17\n",
            "a[1][1][2] = 18\n",
            "a[1][1][3] = 19\n",
            "a[1][2][0] = 20\n",
            "a[1][2][1] = 21\n",
            "a[1][2][2] = 22\n",
            "a[1][2][3] = 23\n"
          ],
          "name": "stdout"
        }
      ]
    },
    {
      "cell_type": "markdown",
      "metadata": {
        "id": "xNNty6kGrlsk",
        "colab_type": "text"
      },
      "source": [
        "The *a.sum(axis=0)* are calculated as below.\n",
        "\n",
        "|      |  n=0  | n=1 | SUM |\n",
        "| ---- | ---- | ---- | ---- |\n",
        "| [n][0][0]| 0| 12| **12** |\n",
        "| [n][0][1]| 1| 13| **14** |\n",
        "| [n][0][2]| 2| 14| **16** |\n",
        "| [n][0][3]| 3| 15| **18** |\n",
        "| [n][1][0]| 4| 16| **20** |\n",
        "| [n][1][1]| 5| 17| **22** |\n",
        "| [n][1][2]| 6| 18| **24** |\n",
        "| [n][1][3]| 7| 19| **26** |\n",
        "| [n][2][0]| 8| 20| **28** |\n",
        "| [n][2][1]| 9| 21| **30** |\n",
        "| [n][2][2]| 10| 22| **32** |\n",
        "| [n][2][3]| 11| 23| **34** |\n",
        "\n"
      ]
    },
    {
      "cell_type": "code",
      "metadata": {
        "id": "9BJsCU79ikzN",
        "colab_type": "code",
        "colab": {
          "base_uri": "https://localhost:8080/",
          "height": 85
        },
        "outputId": "68a14a43-bbeb-4ffa-fd62-d1a102966253"
      },
      "source": [
        "print(\"axis = 0\")\n",
        "print(a.sum(axis=0))"
      ],
      "execution_count": 38,
      "outputs": [
        {
          "output_type": "stream",
          "text": [
            "axis = 0\n",
            "[[12 14 16 18]\n",
            " [20 22 24 26]\n",
            " [28 30 32 34]]\n"
          ],
          "name": "stdout"
        }
      ]
    },
    {
      "cell_type": "markdown",
      "metadata": {
        "id": "7avQ5GF6unw3",
        "colab_type": "text"
      },
      "source": [
        "The *a.sum(axis=1)* are calculated as below.\n",
        "\n",
        "|      |  n=0  | n=1 |  n=2 |SUM |\n",
        "| ---- | ---- | ---- | ---- | ---- |\n",
        "| [0][n][0] | 0 | 4 | 8 | **12** |\n",
        "| [0][n][1] | 1 | 5 | 9 | **15** |\n",
        "| [0][n][2] | 2 | 6 | 10 | **18** |\n",
        "| [0][n][3] | 3 | 7 | 11 | **21** |\n",
        "| [1][n][0] | 12 | 16 | 20 | **48** |\n",
        "| [1][n][1] | 13 | 17 | 21 | **51** |\n",
        "| [1][n][2] | 14 | 18 | 22 | **54** |\n",
        "| [1][n][3] | 15 | 19 | 23 | **57** |"
      ]
    },
    {
      "cell_type": "code",
      "metadata": {
        "id": "w8m1U5gNkwxd",
        "colab_type": "code",
        "colab": {
          "base_uri": "https://localhost:8080/",
          "height": 68
        },
        "outputId": "db2a33bf-3ce9-4304-cf48-8b372870a0b4"
      },
      "source": [
        "print(\"axis = 1\")\n",
        "print(a.sum(axis=1))\n"
      ],
      "execution_count": 39,
      "outputs": [
        {
          "output_type": "stream",
          "text": [
            "axis = 1\n",
            "[[12 15 18 21]\n",
            " [48 51 54 57]]\n"
          ],
          "name": "stdout"
        }
      ]
    },
    {
      "cell_type": "markdown",
      "metadata": {
        "id": "777cTa6-voGS",
        "colab_type": "text"
      },
      "source": [
        "The *a.sum(axis=2)* are calculated as below.\n",
        "\n",
        "|      |  n=0  | n=1 |  n=2 | n=3 |SUM |\n",
        "| ---- | ---- | ---- | ---- | ---- | ---- |\n",
        "| [0][0][n] | 0 | 1 | 2 | 3 | **6** |\n",
        "| [0][1][n] | 4 | 5 | 6 | 7 | **22** |\n",
        "| [0][2][n] | 8 | 9 | 10 | 11 | **38** |\n",
        "| [1][0][n] | 12 | 13 | 14 | 15 | **54** |\n",
        "| [1][1][n] | 16 | 17 | 18 | 19 | **70** |\n",
        "| [1][2][n] | 20 | 21 | 22 | 23 | **86** |"
      ]
    },
    {
      "cell_type": "code",
      "metadata": {
        "id": "r9SLYAXWvai5",
        "colab_type": "code",
        "colab": {
          "base_uri": "https://localhost:8080/",
          "height": 68
        },
        "outputId": "bdf82b5b-c54e-45a5-8ac3-497c368c4165"
      },
      "source": [
        "print(\"axis = 2\")\n",
        "print(a.sum(axis=2))\n"
      ],
      "execution_count": 40,
      "outputs": [
        {
          "output_type": "stream",
          "text": [
            "axis = 2\n",
            "[[ 6 22 38]\n",
            " [54 70 86]]\n"
          ],
          "name": "stdout"
        }
      ]
    },
    {
      "cell_type": "code",
      "metadata": {
        "id": "PcekGkXtv8Zp",
        "colab_type": "code",
        "colab": {}
      },
      "source": [
        "# print(a.sum(axis=3))  # It will happen to be error"
      ],
      "execution_count": 0,
      "outputs": []
    }
  ]
}